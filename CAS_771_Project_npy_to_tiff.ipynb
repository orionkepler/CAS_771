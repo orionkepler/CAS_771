{
 "cells": [
  {
   "cell_type": "code",
   "execution_count": 2,
   "id": "cbe04911",
   "metadata": {},
   "outputs": [],
   "source": [
    "import numpy as np\n",
    "\n",
    "import matplotlib.pyplot as plt"
   ]
  },
  {
   "cell_type": "code",
   "execution_count": 6,
   "id": "520b4af0",
   "metadata": {},
   "outputs": [
    {
     "ename": "ValueError",
     "evalue": "Cannot load file containing pickled data when allow_pickle=False",
     "output_type": "error",
     "traceback": [
      "\u001b[0;31m---------------------------------------------------------------------------\u001b[0m",
      "\u001b[0;31mValueError\u001b[0m                                Traceback (most recent call last)",
      "\u001b[0;32m/var/folders/sj/3h4lpkrn6cdc3m37k25ty5b00000gn/T/ipykernel_29661/3101364465.py\u001b[0m in \u001b[0;36m<module>\u001b[0;34m\u001b[0m\n\u001b[0;32m----> 1\u001b[0;31m \u001b[0mtest\u001b[0m \u001b[0;34m=\u001b[0m \u001b[0mnp\u001b[0m\u001b[0;34m.\u001b[0m\u001b[0mload\u001b[0m\u001b[0;34m(\u001b[0m\u001b[0;34m\"/Users/orion/CAS_771/Previous/dataset1-tiff/test/0/3.tiff\"\u001b[0m\u001b[0;34m)\u001b[0m\u001b[0;34m\u001b[0m\u001b[0;34m\u001b[0m\u001b[0m\n\u001b[0m\u001b[1;32m      2\u001b[0m \u001b[0mplt\u001b[0m\u001b[0;34m.\u001b[0m\u001b[0mimshow\u001b[0m\u001b[0;34m(\u001b[0m\u001b[0mtest\u001b[0m\u001b[0;34m)\u001b[0m\u001b[0;34m\u001b[0m\u001b[0;34m\u001b[0m\u001b[0m\n\u001b[1;32m      3\u001b[0m \u001b[0;34m\u001b[0m\u001b[0m\n\u001b[1;32m      4\u001b[0m \u001b[0mplt\u001b[0m\u001b[0;34m.\u001b[0m\u001b[0mshow\u001b[0m\u001b[0;34m(\u001b[0m\u001b[0;34m)\u001b[0m\u001b[0;34m\u001b[0m\u001b[0;34m\u001b[0m\u001b[0m\n\u001b[1;32m      5\u001b[0m \u001b[0;34m\u001b[0m\u001b[0m\n",
      "\u001b[0;32m~/opt/anaconda3/lib/python3.9/site-packages/numpy/lib/npyio.py\u001b[0m in \u001b[0;36mload\u001b[0;34m(file, mmap_mode, allow_pickle, fix_imports, encoding)\u001b[0m\n\u001b[1;32m    443\u001b[0m             \u001b[0;31m# Try a pickle\u001b[0m\u001b[0;34m\u001b[0m\u001b[0;34m\u001b[0m\u001b[0m\n\u001b[1;32m    444\u001b[0m             \u001b[0;32mif\u001b[0m \u001b[0;32mnot\u001b[0m \u001b[0mallow_pickle\u001b[0m\u001b[0;34m:\u001b[0m\u001b[0;34m\u001b[0m\u001b[0;34m\u001b[0m\u001b[0m\n\u001b[0;32m--> 445\u001b[0;31m                 raise ValueError(\"Cannot load file containing pickled data \"\n\u001b[0m\u001b[1;32m    446\u001b[0m                                  \"when allow_pickle=False\")\n\u001b[1;32m    447\u001b[0m             \u001b[0;32mtry\u001b[0m\u001b[0;34m:\u001b[0m\u001b[0;34m\u001b[0m\u001b[0;34m\u001b[0m\u001b[0m\n",
      "\u001b[0;31mValueError\u001b[0m: Cannot load file containing pickled data when allow_pickle=False"
     ]
    }
   ],
   "source": [
    "test = np.load(\"/Users/orion/CAS_771/Previous/dataset1-tiff/test/0/3.tiff\")\n",
    "plt.imshow(test)\n",
    "\n",
    "plt.show()\n",
    "\n",
    "print(f'datatype：{test.dtype}')"
   ]
  },
  {
   "cell_type": "code",
   "execution_count": 1,
   "id": "1340a2e1",
   "metadata": {},
   "outputs": [],
   "source": [
    "import os\n",
    "import numpy as np\n",
    "from PIL import Image"
   ]
  },
  {
   "cell_type": "code",
   "execution_count": 102,
   "id": "24d1a6a8",
   "metadata": {},
   "outputs": [],
   "source": [
    "# Get the path\n",
    "folder_path = \"/Users/orion/CAS_771/dataset2-bmp/train/0\"\n",
    "\n",
    "# Get all .npy files\n",
    "npy_files = [file for file in os.listdir(folder_path) if file.endswith(\".npy\")]\n",
    "\n",
    "# loop all .npy files，convert to .jpg files\n",
    "for npy_file in npy_files:\n",
    "    # load npy files\n",
    "    npy_path = os.path.join(folder_path, npy_file)\n",
    "    np_array = np.load(npy_path)\n",
    "    \n",
    "    # convert npy data to PIL image\n",
    "    pil_img = Image.fromarray(np_array.astype('uint8'), 'RGB')\n",
    "    \n",
    "    # save PIL image to .png files\n",
    "    jpg_path = os.path.join(folder_path, os.path.splitext(npy_file)[0] + \".bmp\")\n",
    "    pil_img.save(jpg_path)\n",
    "    \n",
    "    # delet npy files\n",
    "    os.remove(npy_path)"
   ]
  },
  {
   "cell_type": "code",
   "execution_count": 1,
   "id": "fa5a3c6c",
   "metadata": {},
   "outputs": [],
   "source": [
    "import os\n",
    "import numpy as np\n",
    "import tifffile as tiff"
   ]
  },
  {
   "cell_type": "code",
   "execution_count": 4,
   "id": "03808869",
   "metadata": {},
   "outputs": [],
   "source": [
    "i = 0\n",
    "\n",
    "for i in range(100):\n",
    "    \n",
    "    variable_str = str(i)\n",
    "\n",
    "    path_prefix = \"/Users/orion/CAS_771/dataset2/train/\"  \n",
    "    \n",
    "    input_folder = os.path.join(path_prefix, variable_str)\n",
    "\n",
    "    for file in os.listdir(input_folder):\n",
    "            if file.endswith(\".npy\"):\n",
    "                file_path = os.path.join(input_folder, file)\n",
    "                tiff_file_path = os.path.splitext(file_path)[0] + \".tiff\"\n",
    "\n",
    "            # read .npy files\n",
    "                data = np.load(file_path)\n",
    "\n",
    "            # save as .tiff files\n",
    "                tiff.imwrite(tiff_file_path, data.astype(np.uint8), photometric='rgb')\n",
    "\n",
    "            # delet .npy files\n",
    "                os.remove(file_path)\n"
   ]
  },
  {
   "cell_type": "code",
   "execution_count": 7,
   "id": "71e74511",
   "metadata": {},
   "outputs": [],
   "source": [
    "input_folder = \"/Users/orion/CAS_771/dataset2/test\"  \n",
    "\n",
    "for file in os.listdir(input_folder):\n",
    "    if file.endswith(\".npy\"):\n",
    "            file_path = os.path.join(input_folder, file)\n",
    "            tiff_file_path = os.path.splitext(file_path)[0] + \".tiff\"\n",
    "\n",
    "            # read .npy files\n",
    "            data = np.load(file_path)\n",
    "\n",
    "            # save as .tiff files\n",
    "            tiff.imwrite(tiff_file_path, data.astype(np.uint8), photometric='rgb')\n",
    "\n",
    "            # delet .npy files\n",
    "            os.remove(file_path)"
   ]
  },
  {
   "cell_type": "code",
   "execution_count": null,
   "id": "1f399c45",
   "metadata": {},
   "outputs": [],
   "source": []
  }
 ],
 "metadata": {
  "kernelspec": {
   "display_name": "Python 3 (ipykernel)",
   "language": "python",
   "name": "python3"
  },
  "language_info": {
   "codemirror_mode": {
    "name": "ipython",
    "version": 3
   },
   "file_extension": ".py",
   "mimetype": "text/x-python",
   "name": "python",
   "nbconvert_exporter": "python",
   "pygments_lexer": "ipython3",
   "version": "3.9.13"
  }
 },
 "nbformat": 4,
 "nbformat_minor": 5
}
