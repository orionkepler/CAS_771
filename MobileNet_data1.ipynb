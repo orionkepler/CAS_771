{
  "nbformat": 4,
  "nbformat_minor": 0,
  "metadata": {
    "colab": {
      "provenance": [],
      "machine_shape": "hm"
    },
    "kernelspec": {
      "name": "python3",
      "display_name": "Python 3"
    },
    "language_info": {
      "name": "python"
    },
    "accelerator": "GPU",
    "gpuClass": "standard",
    "widgets": {
      "application/vnd.jupyter.widget-state+json": {
        "fa8018b0c1794ab3843be5c757d40686": {
          "model_module": "@jupyter-widgets/controls",
          "model_name": "HBoxModel",
          "model_module_version": "1.5.0",
          "state": {
            "_dom_classes": [],
            "_model_module": "@jupyter-widgets/controls",
            "_model_module_version": "1.5.0",
            "_model_name": "HBoxModel",
            "_view_count": null,
            "_view_module": "@jupyter-widgets/controls",
            "_view_module_version": "1.5.0",
            "_view_name": "HBoxView",
            "box_style": "",
            "children": [
              "IPY_MODEL_1347e5c54cdf460b8246ea880e3ec897",
              "IPY_MODEL_663699ee739243bbaa67380a1f146a1a",
              "IPY_MODEL_8a47f90007a441e8923551dd54fbe739"
            ],
            "layout": "IPY_MODEL_526df6b789574d8cbcdc147805627725"
          }
        },
        "1347e5c54cdf460b8246ea880e3ec897": {
          "model_module": "@jupyter-widgets/controls",
          "model_name": "HTMLModel",
          "model_module_version": "1.5.0",
          "state": {
            "_dom_classes": [],
            "_model_module": "@jupyter-widgets/controls",
            "_model_module_version": "1.5.0",
            "_model_name": "HTMLModel",
            "_view_count": null,
            "_view_module": "@jupyter-widgets/controls",
            "_view_module_version": "1.5.0",
            "_view_name": "HTMLView",
            "description": "",
            "description_tooltip": null,
            "layout": "IPY_MODEL_8c4077518c7142ecb612fb015920583e",
            "placeholder": "​",
            "style": "IPY_MODEL_cddd38785bbe462ba3ba36342ae298d1",
            "value": "100%"
          }
        },
        "663699ee739243bbaa67380a1f146a1a": {
          "model_module": "@jupyter-widgets/controls",
          "model_name": "FloatProgressModel",
          "model_module_version": "1.5.0",
          "state": {
            "_dom_classes": [],
            "_model_module": "@jupyter-widgets/controls",
            "_model_module_version": "1.5.0",
            "_model_name": "FloatProgressModel",
            "_view_count": null,
            "_view_module": "@jupyter-widgets/controls",
            "_view_module_version": "1.5.0",
            "_view_name": "ProgressView",
            "bar_style": "success",
            "description": "",
            "description_tooltip": null,
            "layout": "IPY_MODEL_679b9b447c314e2b8f8972ee93af329e",
            "max": 14212972,
            "min": 0,
            "orientation": "horizontal",
            "style": "IPY_MODEL_50df6272ceee4a1a86678faeec19d277",
            "value": 14212972
          }
        },
        "8a47f90007a441e8923551dd54fbe739": {
          "model_module": "@jupyter-widgets/controls",
          "model_name": "HTMLModel",
          "model_module_version": "1.5.0",
          "state": {
            "_dom_classes": [],
            "_model_module": "@jupyter-widgets/controls",
            "_model_module_version": "1.5.0",
            "_model_name": "HTMLModel",
            "_view_count": null,
            "_view_module": "@jupyter-widgets/controls",
            "_view_module_version": "1.5.0",
            "_view_name": "HTMLView",
            "description": "",
            "description_tooltip": null,
            "layout": "IPY_MODEL_1aa8294512054f2a89051be896641caf",
            "placeholder": "​",
            "style": "IPY_MODEL_9e7b53412078407d907e1e5a9570e212",
            "value": " 13.6M/13.6M [00:00&lt;00:00, 70.6MB/s]"
          }
        },
        "526df6b789574d8cbcdc147805627725": {
          "model_module": "@jupyter-widgets/base",
          "model_name": "LayoutModel",
          "model_module_version": "1.2.0",
          "state": {
            "_model_module": "@jupyter-widgets/base",
            "_model_module_version": "1.2.0",
            "_model_name": "LayoutModel",
            "_view_count": null,
            "_view_module": "@jupyter-widgets/base",
            "_view_module_version": "1.2.0",
            "_view_name": "LayoutView",
            "align_content": null,
            "align_items": null,
            "align_self": null,
            "border": null,
            "bottom": null,
            "display": null,
            "flex": null,
            "flex_flow": null,
            "grid_area": null,
            "grid_auto_columns": null,
            "grid_auto_flow": null,
            "grid_auto_rows": null,
            "grid_column": null,
            "grid_gap": null,
            "grid_row": null,
            "grid_template_areas": null,
            "grid_template_columns": null,
            "grid_template_rows": null,
            "height": null,
            "justify_content": null,
            "justify_items": null,
            "left": null,
            "margin": null,
            "max_height": null,
            "max_width": null,
            "min_height": null,
            "min_width": null,
            "object_fit": null,
            "object_position": null,
            "order": null,
            "overflow": null,
            "overflow_x": null,
            "overflow_y": null,
            "padding": null,
            "right": null,
            "top": null,
            "visibility": null,
            "width": null
          }
        },
        "8c4077518c7142ecb612fb015920583e": {
          "model_module": "@jupyter-widgets/base",
          "model_name": "LayoutModel",
          "model_module_version": "1.2.0",
          "state": {
            "_model_module": "@jupyter-widgets/base",
            "_model_module_version": "1.2.0",
            "_model_name": "LayoutModel",
            "_view_count": null,
            "_view_module": "@jupyter-widgets/base",
            "_view_module_version": "1.2.0",
            "_view_name": "LayoutView",
            "align_content": null,
            "align_items": null,
            "align_self": null,
            "border": null,
            "bottom": null,
            "display": null,
            "flex": null,
            "flex_flow": null,
            "grid_area": null,
            "grid_auto_columns": null,
            "grid_auto_flow": null,
            "grid_auto_rows": null,
            "grid_column": null,
            "grid_gap": null,
            "grid_row": null,
            "grid_template_areas": null,
            "grid_template_columns": null,
            "grid_template_rows": null,
            "height": null,
            "justify_content": null,
            "justify_items": null,
            "left": null,
            "margin": null,
            "max_height": null,
            "max_width": null,
            "min_height": null,
            "min_width": null,
            "object_fit": null,
            "object_position": null,
            "order": null,
            "overflow": null,
            "overflow_x": null,
            "overflow_y": null,
            "padding": null,
            "right": null,
            "top": null,
            "visibility": null,
            "width": null
          }
        },
        "cddd38785bbe462ba3ba36342ae298d1": {
          "model_module": "@jupyter-widgets/controls",
          "model_name": "DescriptionStyleModel",
          "model_module_version": "1.5.0",
          "state": {
            "_model_module": "@jupyter-widgets/controls",
            "_model_module_version": "1.5.0",
            "_model_name": "DescriptionStyleModel",
            "_view_count": null,
            "_view_module": "@jupyter-widgets/base",
            "_view_module_version": "1.2.0",
            "_view_name": "StyleView",
            "description_width": ""
          }
        },
        "679b9b447c314e2b8f8972ee93af329e": {
          "model_module": "@jupyter-widgets/base",
          "model_name": "LayoutModel",
          "model_module_version": "1.2.0",
          "state": {
            "_model_module": "@jupyter-widgets/base",
            "_model_module_version": "1.2.0",
            "_model_name": "LayoutModel",
            "_view_count": null,
            "_view_module": "@jupyter-widgets/base",
            "_view_module_version": "1.2.0",
            "_view_name": "LayoutView",
            "align_content": null,
            "align_items": null,
            "align_self": null,
            "border": null,
            "bottom": null,
            "display": null,
            "flex": null,
            "flex_flow": null,
            "grid_area": null,
            "grid_auto_columns": null,
            "grid_auto_flow": null,
            "grid_auto_rows": null,
            "grid_column": null,
            "grid_gap": null,
            "grid_row": null,
            "grid_template_areas": null,
            "grid_template_columns": null,
            "grid_template_rows": null,
            "height": null,
            "justify_content": null,
            "justify_items": null,
            "left": null,
            "margin": null,
            "max_height": null,
            "max_width": null,
            "min_height": null,
            "min_width": null,
            "object_fit": null,
            "object_position": null,
            "order": null,
            "overflow": null,
            "overflow_x": null,
            "overflow_y": null,
            "padding": null,
            "right": null,
            "top": null,
            "visibility": null,
            "width": null
          }
        },
        "50df6272ceee4a1a86678faeec19d277": {
          "model_module": "@jupyter-widgets/controls",
          "model_name": "ProgressStyleModel",
          "model_module_version": "1.5.0",
          "state": {
            "_model_module": "@jupyter-widgets/controls",
            "_model_module_version": "1.5.0",
            "_model_name": "ProgressStyleModel",
            "_view_count": null,
            "_view_module": "@jupyter-widgets/base",
            "_view_module_version": "1.2.0",
            "_view_name": "StyleView",
            "bar_color": null,
            "description_width": ""
          }
        },
        "1aa8294512054f2a89051be896641caf": {
          "model_module": "@jupyter-widgets/base",
          "model_name": "LayoutModel",
          "model_module_version": "1.2.0",
          "state": {
            "_model_module": "@jupyter-widgets/base",
            "_model_module_version": "1.2.0",
            "_model_name": "LayoutModel",
            "_view_count": null,
            "_view_module": "@jupyter-widgets/base",
            "_view_module_version": "1.2.0",
            "_view_name": "LayoutView",
            "align_content": null,
            "align_items": null,
            "align_self": null,
            "border": null,
            "bottom": null,
            "display": null,
            "flex": null,
            "flex_flow": null,
            "grid_area": null,
            "grid_auto_columns": null,
            "grid_auto_flow": null,
            "grid_auto_rows": null,
            "grid_column": null,
            "grid_gap": null,
            "grid_row": null,
            "grid_template_areas": null,
            "grid_template_columns": null,
            "grid_template_rows": null,
            "height": null,
            "justify_content": null,
            "justify_items": null,
            "left": null,
            "margin": null,
            "max_height": null,
            "max_width": null,
            "min_height": null,
            "min_width": null,
            "object_fit": null,
            "object_position": null,
            "order": null,
            "overflow": null,
            "overflow_x": null,
            "overflow_y": null,
            "padding": null,
            "right": null,
            "top": null,
            "visibility": null,
            "width": null
          }
        },
        "9e7b53412078407d907e1e5a9570e212": {
          "model_module": "@jupyter-widgets/controls",
          "model_name": "DescriptionStyleModel",
          "model_module_version": "1.5.0",
          "state": {
            "_model_module": "@jupyter-widgets/controls",
            "_model_module_version": "1.5.0",
            "_model_name": "DescriptionStyleModel",
            "_view_count": null,
            "_view_module": "@jupyter-widgets/base",
            "_view_module_version": "1.2.0",
            "_view_name": "StyleView",
            "description_width": ""
          }
        }
      }
    }
  },
  "cells": [
    {
      "cell_type": "code",
      "execution_count": null,
      "metadata": {
        "id": "g-AuKgrHFiDx"
      },
      "outputs": [],
      "source": [
        "from fastai.vision.all import *\n",
        "from fastai.vision.widgets import *"
      ]
    },
    {
      "cell_type": "code",
      "source": [
        "from torchvision.models import mobilenet_v2"
      ],
      "metadata": {
        "id": "s8Sh0uwazfS-"
      },
      "execution_count": null,
      "outputs": []
    },
    {
      "cell_type": "code",
      "source": [
        "from google.colab import drive\n",
        "drive.mount('/content/drive')\n",
        "DATASET_PATH = Path ('/content/drive/MyDrive/dataset1-tiff')"
      ],
      "metadata": {
        "colab": {
          "base_uri": "https://localhost:8080/"
        },
        "id": "7Wu0GUJazhP_",
        "outputId": "2267fa75-9a3c-49c2-af2e-15ccb3db3cd7"
      },
      "execution_count": null,
      "outputs": [
        {
          "output_type": "stream",
          "name": "stdout",
          "text": [
            "Mounted at /content/drive\n"
          ]
        }
      ]
    },
    {
      "cell_type": "code",
      "source": [
        "mobilenet_model = mobilenet_v2(pretrained=True)"
      ],
      "metadata": {
        "colab": {
          "base_uri": "https://localhost:8080/",
          "height": 154,
          "referenced_widgets": [
            "fa8018b0c1794ab3843be5c757d40686",
            "1347e5c54cdf460b8246ea880e3ec897",
            "663699ee739243bbaa67380a1f146a1a",
            "8a47f90007a441e8923551dd54fbe739",
            "526df6b789574d8cbcdc147805627725",
            "8c4077518c7142ecb612fb015920583e",
            "cddd38785bbe462ba3ba36342ae298d1",
            "679b9b447c314e2b8f8972ee93af329e",
            "50df6272ceee4a1a86678faeec19d277",
            "1aa8294512054f2a89051be896641caf",
            "9e7b53412078407d907e1e5a9570e212"
          ]
        },
        "id": "7C8rVilizpLP",
        "outputId": "45fec189-8be8-4b56-9101-ce8457d8878b"
      },
      "execution_count": null,
      "outputs": [
        {
          "output_type": "stream",
          "name": "stderr",
          "text": [
            "/usr/local/lib/python3.9/dist-packages/torchvision/models/_utils.py:208: UserWarning: The parameter 'pretrained' is deprecated since 0.13 and may be removed in the future, please use 'weights' instead.\n",
            "  warnings.warn(\n",
            "/usr/local/lib/python3.9/dist-packages/torchvision/models/_utils.py:223: UserWarning: Arguments other than a weight enum or `None` for 'weights' are deprecated since 0.13 and may be removed in the future. The current behavior is equivalent to passing `weights=MobileNet_V2_Weights.IMAGENET1K_V1`. You can also use `weights=MobileNet_V2_Weights.DEFAULT` to get the most up-to-date weights.\n",
            "  warnings.warn(msg)\n",
            "Downloading: \"https://download.pytorch.org/models/mobilenet_v2-b0353104.pth\" to /root/.cache/torch/hub/checkpoints/mobilenet_v2-b0353104.pth\n"
          ]
        },
        {
          "output_type": "display_data",
          "data": {
            "text/plain": [
              "  0%|          | 0.00/13.6M [00:00<?, ?B/s]"
            ],
            "application/vnd.jupyter.widget-view+json": {
              "version_major": 2,
              "version_minor": 0,
              "model_id": "fa8018b0c1794ab3843be5c757d40686"
            }
          },
          "metadata": {}
        }
      ]
    },
    {
      "cell_type": "code",
      "source": [
        "# Build the datablock\n",
        "datablock = DataBlock(\n",
        "    get_items = get_image_files,\n",
        "    get_y = parent_label,\n",
        "    blocks = (ImageBlock, CategoryBlock),\n",
        "    splitter = GrandparentSplitter(valid_name = 'test'), #splitter\n",
        "    item_tfms=Resize(224),\n",
        "    batch_tfms=aug_transforms()\n",
        ")"
      ],
      "metadata": {
        "id": "ZxmsCqgbzyPe"
      },
      "execution_count": null,
      "outputs": []
    },
    {
      "cell_type": "code",
      "source": [
        "dls = datablock.dataloaders(DATASET_PATH)"
      ],
      "metadata": {
        "id": "fOfeM5eYz0Xo"
      },
      "execution_count": null,
      "outputs": []
    },
    {
      "cell_type": "code",
      "source": [
        "learn = Learner(dls, mobilenet_model, loss_func=CrossEntropyLossFlat(), metrics=accuracy)\n",
        "# find the best learning rate\n",
        "lr_rate = learn.lr_find()"
      ],
      "metadata": {
        "colab": {
          "base_uri": "https://localhost:8080/",
          "height": 454
        },
        "id": "9SSQd29nz2H4",
        "outputId": "a4900f91-a6d1-4de6-a0c1-e8d1fe273599"
      },
      "execution_count": null,
      "outputs": [
        {
          "output_type": "display_data",
          "data": {
            "text/plain": [
              "<IPython.core.display.HTML object>"
            ],
            "text/html": [
              "\n",
              "<style>\n",
              "    /* Turns off some styling */\n",
              "    progress {\n",
              "        /* gets rid of default border in Firefox and Opera. */\n",
              "        border: none;\n",
              "        /* Needs to be in here for Safari polyfill so background images work as expected. */\n",
              "        background-size: auto;\n",
              "    }\n",
              "    progress:not([value]), progress:not([value])::-webkit-progress-bar {\n",
              "        background: repeating-linear-gradient(45deg, #7e7e7e, #7e7e7e 10px, #5c5c5c 10px, #5c5c5c 20px);\n",
              "    }\n",
              "    .progress-bar-interrupted, .progress-bar-interrupted::-webkit-progress-bar {\n",
              "        background: #F44336;\n",
              "    }\n",
              "</style>\n"
            ]
          },
          "metadata": {}
        },
        {
          "output_type": "display_data",
          "data": {
            "text/plain": [
              "<IPython.core.display.HTML object>"
            ],
            "text/html": []
          },
          "metadata": {}
        },
        {
          "output_type": "display_data",
          "data": {
            "text/plain": [
              "<Figure size 640x480 with 1 Axes>"
            ],
            "image/png": "[encoded data removed]"
          },
          "metadata": {}
        }
      ]
    },
    {
      "cell_type": "code",
      "source": [
        "# Train the model\n",
        "learn.fit_one_cycle(20, lr_rate)"
      ],
      "metadata": {
        "colab": {
          "base_uri": "https://localhost:8080/",
          "height": 669
        },
        "id": "Bq5zTXXxz-n1",
        "outputId": "cf24c2e6-09d0-4278-a3db-76e1d7542100"
      },
      "execution_count": null,
      "outputs": [
        {
          "output_type": "display_data",
          "data": {
            "text/plain": [
              "<IPython.core.display.HTML object>"
            ],
            "text/html": [
              "\n",
              "<style>\n",
              "    /* Turns off some styling */\n",
              "    progress {\n",
              "        /* gets rid of default border in Firefox and Opera. */\n",
              "        border: none;\n",
              "        /* Needs to be in here for Safari polyfill so background images work as expected. */\n",
              "        background-size: auto;\n",
              "    }\n",
              "    progress:not([value]), progress:not([value])::-webkit-progress-bar {\n",
              "        background: repeating-linear-gradient(45deg, #7e7e7e, #7e7e7e 10px, #5c5c5c 10px, #5c5c5c 20px);\n",
              "    }\n",
              "    .progress-bar-interrupted, .progress-bar-interrupted::-webkit-progress-bar {\n",
              "        background: #F44336;\n",
              "    }\n",
              "</style>\n"
            ]
          },
          "metadata": {}
        },
        {
          "output_type": "display_data",
          "data": {
            "text/plain": [
              "<IPython.core.display.HTML object>"
            ],
            "text/html": [
              "<table border=\"1\" class=\"dataframe\">\n",
              "  <thead>\n",
              "    <tr style=\"text-align: left;\">\n",
              "      <th>epoch</th>\n",
              "      <th>train_loss</th>\n",
              "      <th>valid_loss</th>\n",
              "      <th>accuracy</th>\n",
              "      <th>time</th>\n",
              "    </tr>\n",
              "  </thead>\n",
              "  <tbody>\n",
              "    <tr>\n",
              "      <td>0</td>\n",
              "      <td>1.672987</td>\n",
              "      <td>1.511514</td>\n",
              "      <td>0.457000</td>\n",
              "      <td>34:07</td>\n",
              "    </tr>\n",
              "    <tr>\n",
              "      <td>1</td>\n",
              "      <td>1.251621</td>\n",
              "      <td>1.149501</td>\n",
              "      <td>0.594800</td>\n",
              "      <td>03:51</td>\n",
              "    </tr>\n",
              "    <tr>\n",
              "      <td>2</td>\n",
              "      <td>1.097981</td>\n",
              "      <td>1.027630</td>\n",
              "      <td>0.640900</td>\n",
              "      <td>03:49</td>\n",
              "    </tr>\n",
              "    <tr>\n",
              "      <td>3</td>\n",
              "      <td>0.956186</td>\n",
              "      <td>0.964139</td>\n",
              "      <td>0.666300</td>\n",
              "      <td>03:50</td>\n",
              "    </tr>\n",
              "    <tr>\n",
              "      <td>4</td>\n",
              "      <td>0.842732</td>\n",
              "      <td>0.822531</td>\n",
              "      <td>0.712500</td>\n",
              "      <td>03:50</td>\n",
              "    </tr>\n",
              "    <tr>\n",
              "      <td>5</td>\n",
              "      <td>0.771074</td>\n",
              "      <td>0.762533</td>\n",
              "      <td>0.732400</td>\n",
              "      <td>03:50</td>\n",
              "    </tr>\n",
              "    <tr>\n",
              "      <td>6</td>\n",
              "      <td>0.702751</td>\n",
              "      <td>0.693117</td>\n",
              "      <td>0.758900</td>\n",
              "      <td>03:49</td>\n",
              "    </tr>\n",
              "    <tr>\n",
              "      <td>7</td>\n",
              "      <td>0.628549</td>\n",
              "      <td>0.619420</td>\n",
              "      <td>0.785000</td>\n",
              "      <td>03:50</td>\n",
              "    </tr>\n",
              "    <tr>\n",
              "      <td>8</td>\n",
              "      <td>0.592855</td>\n",
              "      <td>0.622181</td>\n",
              "      <td>0.791000</td>\n",
              "      <td>03:50</td>\n",
              "    </tr>\n",
              "    <tr>\n",
              "      <td>9</td>\n",
              "      <td>0.514225</td>\n",
              "      <td>0.552063</td>\n",
              "      <td>0.807400</td>\n",
              "      <td>03:49</td>\n",
              "    </tr>\n",
              "    <tr>\n",
              "      <td>10</td>\n",
              "      <td>0.455243</td>\n",
              "      <td>0.517938</td>\n",
              "      <td>0.824800</td>\n",
              "      <td>03:49</td>\n",
              "    </tr>\n",
              "    <tr>\n",
              "      <td>11</td>\n",
              "      <td>0.414956</td>\n",
              "      <td>0.533577</td>\n",
              "      <td>0.818400</td>\n",
              "      <td>03:50</td>\n",
              "    </tr>\n",
              "    <tr>\n",
              "      <td>12</td>\n",
              "      <td>0.371004</td>\n",
              "      <td>0.495046</td>\n",
              "      <td>0.835400</td>\n",
              "      <td>03:49</td>\n",
              "    </tr>\n",
              "    <tr>\n",
              "      <td>13</td>\n",
              "      <td>0.324122</td>\n",
              "      <td>0.492469</td>\n",
              "      <td>0.838200</td>\n",
              "      <td>03:49</td>\n",
              "    </tr>\n",
              "    <tr>\n",
              "      <td>14</td>\n",
              "      <td>0.270707</td>\n",
              "      <td>0.484183</td>\n",
              "      <td>0.846500</td>\n",
              "      <td>03:50</td>\n",
              "    </tr>\n",
              "    <tr>\n",
              "      <td>15</td>\n",
              "      <td>0.222845</td>\n",
              "      <td>0.501759</td>\n",
              "      <td>0.848000</td>\n",
              "      <td>03:49</td>\n",
              "    </tr>\n",
              "    <tr>\n",
              "      <td>16</td>\n",
              "      <td>0.201664</td>\n",
              "      <td>0.506255</td>\n",
              "      <td>0.853300</td>\n",
              "      <td>03:49</td>\n",
              "    </tr>\n",
              "    <tr>\n",
              "      <td>17</td>\n",
              "      <td>0.170963</td>\n",
              "      <td>0.525889</td>\n",
              "      <td>0.853700</td>\n",
              "      <td>03:50</td>\n",
              "    </tr>\n",
              "    <tr>\n",
              "      <td>18</td>\n",
              "      <td>0.139451</td>\n",
              "      <td>0.528134</td>\n",
              "      <td>0.856100</td>\n",
              "      <td>03:50</td>\n",
              "    </tr>\n",
              "    <tr>\n",
              "      <td>19</td>\n",
              "      <td>0.142261</td>\n",
              "      <td>0.535470</td>\n",
              "      <td>0.855300</td>\n",
              "      <td>03:49</td>\n",
              "    </tr>\n",
              "  </tbody>\n",
              "</table>"
            ]
          },
          "metadata": {}
        }
      ]
    },
    {
      "cell_type": "code",
      "source": [
        "# evaluate the model\n",
        "interp = ClassificationInterpretation.from_learner(learn)\n",
        "interp.plot_confusion_matrix()"
      ],
      "metadata": {
        "colab": {
          "base_uri": "https://localhost:8080/",
          "height": 506
        },
        "id": "P7wzNPrQ0A0K",
        "outputId": "f534a4d5-4e1f-486c-87b9-d47406085f0f"
      },
      "execution_count": null,
      "outputs": [
        {
          "output_type": "display_data",
          "data": {
            "text/plain": [
              "<IPython.core.display.HTML object>"
            ],
            "text/html": [
              "\n",
              "<style>\n",
              "    /* Turns off some styling */\n",
              "    progress {\n",
              "        /* gets rid of default border in Firefox and Opera. */\n",
              "        border: none;\n",
              "        /* Needs to be in here for Safari polyfill so background images work as expected. */\n",
              "        background-size: auto;\n",
              "    }\n",
              "    progress:not([value]), progress:not([value])::-webkit-progress-bar {\n",
              "        background: repeating-linear-gradient(45deg, #7e7e7e, #7e7e7e 10px, #5c5c5c 10px, #5c5c5c 20px);\n",
              "    }\n",
              "    .progress-bar-interrupted, .progress-bar-interrupted::-webkit-progress-bar {\n",
              "        background: #F44336;\n",
              "    }\n",
              "</style>\n"
            ]
          },
          "metadata": {}
        },
        {
          "output_type": "display_data",
          "data": {
            "text/plain": [
              "<IPython.core.display.HTML object>"
            ],
            "text/html": []
          },
          "metadata": {}
        },
        {
          "output_type": "display_data",
          "data": {
            "text/plain": [
              "<IPython.core.display.HTML object>"
            ],
            "text/html": [
              "\n",
              "<style>\n",
              "    /* Turns off some styling */\n",
              "    progress {\n",
              "        /* gets rid of default border in Firefox and Opera. */\n",
              "        border: none;\n",
              "        /* Needs to be in here for Safari polyfill so background images work as expected. */\n",
              "        background-size: auto;\n",
              "    }\n",
              "    progress:not([value]), progress:not([value])::-webkit-progress-bar {\n",
              "        background: repeating-linear-gradient(45deg, #7e7e7e, #7e7e7e 10px, #5c5c5c 10px, #5c5c5c 20px);\n",
              "    }\n",
              "    .progress-bar-interrupted, .progress-bar-interrupted::-webkit-progress-bar {\n",
              "        background: #F44336;\n",
              "    }\n",
              "</style>\n"
            ]
          },
          "metadata": {}
        },
        {
          "output_type": "display_data",
          "data": {
            "text/plain": [
              "<IPython.core.display.HTML object>"
            ],
            "text/html": []
          },
          "metadata": {}
        },
        {
          "output_type": "display_data",
          "data": {
            "text/plain": [
              "<Figure size 640x480 with 1 Axes>"
            ],
            "image/png": "[encoded data removed]"
          },
          "metadata": {}
        }
      ]
    },
    {
      "cell_type": "code",
      "source": [
        "learn.recorder.summary()"
      ],
      "metadata": {
        "colab": {
          "base_uri": "https://localhost:8080/",
          "height": 1000
        },
        "id": "9mi1Mph-0FJR",
        "outputId": "1a87f5c9-efc7-487a-e359-8c4191169369"
      },
      "execution_count": null,
      "outputs": [
        {
          "output_type": "display_data",
          "data": {
            "text/plain": [
              "<IPython.core.display.HTML object>"
            ],
            "text/html": [
              "\n",
              "<style>\n",
              "    /* Turns off some styling */\n",
              "    progress {\n",
              "        /* gets rid of default border in Firefox and Opera. */\n",
              "        border: none;\n",
              "        /* Needs to be in here for Safari polyfill so background images work as expected. */\n",
              "        background-size: auto;\n",
              "    }\n",
              "    progress:not([value]), progress:not([value])::-webkit-progress-bar {\n",
              "        background: repeating-linear-gradient(45deg, #7e7e7e, #7e7e7e 10px, #5c5c5c 10px, #5c5c5c 20px);\n",
              "    }\n",
              "    .progress-bar-interrupted, .progress-bar-interrupted::-webkit-progress-bar {\n",
              "        background: #F44336;\n",
              "    }\n",
              "</style>\n"
            ]
          },
          "metadata": {}
        },
        {
          "output_type": "display_data",
          "data": {
            "text/plain": [
              "<IPython.core.display.HTML object>"
            ],
            "text/html": []
          },
          "metadata": {}
        },
        {
          "output_type": "execute_result",
          "data": {
            "text/plain": [
              "MobileNetV2 (Input shape: 64 x 3 x 224 x 224)\n",
              "============================================================================\n",
              "Layer (type)         Output Shape         Param #    Trainable \n",
              "============================================================================\n",
              "                     64 x 32 x 112 x 112 \n",
              "Conv2d                                    864        True      \n",
              "BatchNorm2d                               64         True      \n",
              "ReLU6                                                          \n",
              "Conv2d                                    288        True      \n",
              "BatchNorm2d                               64         True      \n",
              "ReLU6                                                          \n",
              "____________________________________________________________________________\n",
              "                     64 x 16 x 112 x 112 \n",
              "Conv2d                                    512        True      \n",
              "BatchNorm2d                               32         True      \n",
              "____________________________________________________________________________\n",
              "                     64 x 96 x 112 x 112 \n",
              "Conv2d                                    1536       True      \n",
              "BatchNorm2d                               192        True      \n",
              "ReLU6                                                          \n",
              "____________________________________________________________________________\n",
              "                     64 x 96 x 56 x 56   \n",
              "Conv2d                                    864        True      \n",
              "BatchNorm2d                               192        True      \n",
              "ReLU6                                                          \n",
              "____________________________________________________________________________\n",
              "                     64 x 24 x 56 x 56   \n",
              "Conv2d                                    2304       True      \n",
              "BatchNorm2d                               48         True      \n",
              "____________________________________________________________________________\n",
              "                     64 x 144 x 56 x 56  \n",
              "Conv2d                                    3456       True      \n",
              "BatchNorm2d                               288        True      \n",
              "ReLU6                                                          \n",
              "Conv2d                                    1296       True      \n",
              "BatchNorm2d                               288        True      \n",
              "ReLU6                                                          \n",
              "____________________________________________________________________________\n",
              "                     64 x 24 x 56 x 56   \n",
              "Conv2d                                    3456       True      \n",
              "BatchNorm2d                               48         True      \n",
              "____________________________________________________________________________\n",
              "                     64 x 144 x 56 x 56  \n",
              "Conv2d                                    3456       True      \n",
              "BatchNorm2d                               288        True      \n",
              "ReLU6                                                          \n",
              "____________________________________________________________________________\n",
              "                     64 x 144 x 28 x 28  \n",
              "Conv2d                                    1296       True      \n",
              "BatchNorm2d                               288        True      \n",
              "ReLU6                                                          \n",
              "____________________________________________________________________________\n",
              "                     64 x 32 x 28 x 28   \n",
              "Conv2d                                    4608       True      \n",
              "BatchNorm2d                               64         True      \n",
              "____________________________________________________________________________\n",
              "                     64 x 192 x 28 x 28  \n",
              "Conv2d                                    6144       True      \n",
              "BatchNorm2d                               384        True      \n",
              "ReLU6                                                          \n",
              "Conv2d                                    1728       True      \n",
              "BatchNorm2d                               384        True      \n",
              "ReLU6                                                          \n",
              "____________________________________________________________________________\n",
              "                     64 x 32 x 28 x 28   \n",
              "Conv2d                                    6144       True      \n",
              "BatchNorm2d                               64         True      \n",
              "____________________________________________________________________________\n",
              "                     64 x 192 x 28 x 28  \n",
              "Conv2d                                    6144       True      \n",
              "BatchNorm2d                               384        True      \n",
              "ReLU6                                                          \n",
              "Conv2d                                    1728       True      \n",
              "BatchNorm2d                               384        True      \n",
              "ReLU6                                                          \n",
              "____________________________________________________________________________\n",
              "                     64 x 32 x 28 x 28   \n",
              "Conv2d                                    6144       True      \n",
              "BatchNorm2d                               64         True      \n",
              "____________________________________________________________________________\n",
              "                     64 x 192 x 28 x 28  \n",
              "Conv2d                                    6144       True      \n",
              "BatchNorm2d                               384        True      \n",
              "ReLU6                                                          \n",
              "____________________________________________________________________________\n",
              "                     64 x 192 x 14 x 14  \n",
              "Conv2d                                    1728       True      \n",
              "BatchNorm2d                               384        True      \n",
              "ReLU6                                                          \n",
              "____________________________________________________________________________\n",
              "                     64 x 64 x 14 x 14   \n",
              "Conv2d                                    12288      True      \n",
              "BatchNorm2d                               128        True      \n",
              "____________________________________________________________________________\n",
              "                     64 x 384 x 14 x 14  \n",
              "Conv2d                                    24576      True      \n",
              "BatchNorm2d                               768        True      \n",
              "ReLU6                                                          \n",
              "Conv2d                                    3456       True      \n",
              "BatchNorm2d                               768        True      \n",
              "ReLU6                                                          \n",
              "____________________________________________________________________________\n",
              "                     64 x 64 x 14 x 14   \n",
              "Conv2d                                    24576      True      \n",
              "BatchNorm2d                               128        True      \n",
              "____________________________________________________________________________\n",
              "                     64 x 384 x 14 x 14  \n",
              "Conv2d                                    24576      True      \n",
              "BatchNorm2d                               768        True      \n",
              "ReLU6                                                          \n",
              "Conv2d                                    3456       True      \n",
              "BatchNorm2d                               768        True      \n",
              "ReLU6                                                          \n",
              "____________________________________________________________________________\n",
              "                     64 x 64 x 14 x 14   \n",
              "Conv2d                                    24576      True      \n",
              "BatchNorm2d                               128        True      \n",
              "____________________________________________________________________________\n",
              "                     64 x 384 x 14 x 14  \n",
              "Conv2d                                    24576      True      \n",
              "BatchNorm2d                               768        True      \n",
              "ReLU6                                                          \n",
              "Conv2d                                    3456       True      \n",
              "BatchNorm2d                               768        True      \n",
              "ReLU6                                                          \n",
              "____________________________________________________________________________\n",
              "                     64 x 64 x 14 x 14   \n",
              "Conv2d                                    24576      True      \n",
              "BatchNorm2d                               128        True      \n",
              "____________________________________________________________________________\n",
              "                     64 x 384 x 14 x 14  \n",
              "Conv2d                                    24576      True      \n",
              "BatchNorm2d                               768        True      \n",
              "ReLU6                                                          \n",
              "Conv2d                                    3456       True      \n",
              "BatchNorm2d                               768        True      \n",
              "ReLU6                                                          \n",
              "____________________________________________________________________________\n",
              "                     64 x 96 x 14 x 14   \n",
              "Conv2d                                    36864      True      \n",
              "BatchNorm2d                               192        True      \n",
              "____________________________________________________________________________\n",
              "                     64 x 576 x 14 x 14  \n",
              "Conv2d                                    55296      True      \n",
              "BatchNorm2d                               1152       True      \n",
              "ReLU6                                                          \n",
              "Conv2d                                    5184       True      \n",
              "BatchNorm2d                               1152       True      \n",
              "ReLU6                                                          \n",
              "____________________________________________________________________________\n",
              "                     64 x 96 x 14 x 14   \n",
              "Conv2d                                    55296      True      \n",
              "BatchNorm2d                               192        True      \n",
              "____________________________________________________________________________\n",
              "                     64 x 576 x 14 x 14  \n",
              "Conv2d                                    55296      True      \n",
              "BatchNorm2d                               1152       True      \n",
              "ReLU6                                                          \n",
              "Conv2d                                    5184       True      \n",
              "BatchNorm2d                               1152       True      \n",
              "ReLU6                                                          \n",
              "____________________________________________________________________________\n",
              "                     64 x 96 x 14 x 14   \n",
              "Conv2d                                    55296      True      \n",
              "BatchNorm2d                               192        True      \n",
              "____________________________________________________________________________\n",
              "                     64 x 576 x 14 x 14  \n",
              "Conv2d                                    55296      True      \n",
              "BatchNorm2d                               1152       True      \n",
              "ReLU6                                                          \n",
              "____________________________________________________________________________\n",
              "                     64 x 576 x 7 x 7    \n",
              "Conv2d                                    5184       True      \n",
              "BatchNorm2d                               1152       True      \n",
              "ReLU6                                                          \n",
              "____________________________________________________________________________\n",
              "                     64 x 160 x 7 x 7    \n",
              "Conv2d                                    92160      True      \n",
              "BatchNorm2d                               320        True      \n",
              "____________________________________________________________________________\n",
              "                     64 x 960 x 7 x 7    \n",
              "Conv2d                                    153600     True      \n",
              "BatchNorm2d                               1920       True      \n",
              "ReLU6                                                          \n",
              "Conv2d                                    8640       True      \n",
              "BatchNorm2d                               1920       True      \n",
              "ReLU6                                                          \n",
              "____________________________________________________________________________\n",
              "                     64 x 160 x 7 x 7    \n",
              "Conv2d                                    153600     True      \n",
              "BatchNorm2d                               320        True      \n",
              "____________________________________________________________________________\n",
              "                     64 x 960 x 7 x 7    \n",
              "Conv2d                                    153600     True      \n",
              "BatchNorm2d                               1920       True      \n",
              "ReLU6                                                          \n",
              "Conv2d                                    8640       True      \n",
              "BatchNorm2d                               1920       True      \n",
              "ReLU6                                                          \n",
              "____________________________________________________________________________\n",
              "                     64 x 160 x 7 x 7    \n",
              "Conv2d                                    153600     True      \n",
              "BatchNorm2d                               320        True      \n",
              "____________________________________________________________________________\n",
              "                     64 x 960 x 7 x 7    \n",
              "Conv2d                                    153600     True      \n",
              "BatchNorm2d                               1920       True      \n",
              "ReLU6                                                          \n",
              "Conv2d                                    8640       True      \n",
              "BatchNorm2d                               1920       True      \n",
              "ReLU6                                                          \n",
              "____________________________________________________________________________\n",
              "                     64 x 320 x 7 x 7    \n",
              "Conv2d                                    307200     True      \n",
              "BatchNorm2d                               640        True      \n",
              "____________________________________________________________________________\n",
              "                     64 x 1280 x 7 x 7   \n",
              "Conv2d                                    409600     True      \n",
              "BatchNorm2d                               2560       True      \n",
              "ReLU6                                                          \n",
              "Dropout                                                        \n",
              "____________________________________________________________________________\n",
              "                     64 x 1000           \n",
              "Linear                                    1281000    True      \n",
              "____________________________________________________________________________\n",
              "\n",
              "Total params: 3,504,872\n",
              "Total trainable params: 3,504,872\n",
              "Total non-trainable params: 0\n",
              "\n",
              "Optimizer used: <function Adam at 0x7fade73ad160>\n",
              "Loss function: FlattenedLoss of CrossEntropyLoss()\n",
              "\n",
              "Model unfrozen\n",
              "\n",
              "Callbacks:\n",
              "  - TrainEvalCallback\n",
              "  - CastToTensor\n",
              "  - Recorder\n",
              "  - ProgressCallback"
            ],
            "application/vnd.google.colaboratory.intrinsic+json": {
              "type": "string"
            }
          },
          "metadata": {},
          "execution_count": 11
        }
      ]
    },
    {
      "cell_type": "code",
      "source": [
        "# export the model\n",
        "learn.export('/content/drive/MyDrive/Model/data1_MobileNet.pkl')"
      ],
      "metadata": {
        "id": "j9SoSv8h0GmN"
      },
      "execution_count": null,
      "outputs": []
    },
    {
      "cell_type": "code",
      "source": [
        "preds, targets = learn.tta()\n",
        "accuracy(preds, targets).item()"
      ],
      "metadata": {
        "colab": {
          "base_uri": "https://localhost:8080/",
          "height": 54
        },
        "id": "ZGt_3-MVOyEN",
        "outputId": "d21acb07-2e88-44d8-d689-bc024a96ceec"
      },
      "execution_count": null,
      "outputs": [
        {
          "output_type": "display_data",
          "data": {
            "text/plain": [
              "<IPython.core.display.HTML object>"
            ],
            "text/html": [
              "\n",
              "<style>\n",
              "    /* Turns off some styling */\n",
              "    progress {\n",
              "        /* gets rid of default border in Firefox and Opera. */\n",
              "        border: none;\n",
              "        /* Needs to be in here for Safari polyfill so background images work as expected. */\n",
              "        background-size: auto;\n",
              "    }\n",
              "    progress:not([value]), progress:not([value])::-webkit-progress-bar {\n",
              "        background: repeating-linear-gradient(45deg, #7e7e7e, #7e7e7e 10px, #5c5c5c 10px, #5c5c5c 20px);\n",
              "    }\n",
              "    .progress-bar-interrupted, .progress-bar-interrupted::-webkit-progress-bar {\n",
              "        background: #F44336;\n",
              "    }\n",
              "</style>\n"
            ]
          },
          "metadata": {}
        },
        {
          "output_type": "display_data",
          "data": {
            "text/plain": [
              "<IPython.core.display.HTML object>"
            ],
            "text/html": [
              "\n",
              "    <div>\n",
              "      <progress value='0' class='' max='20' style='width:300px; height:20px; vertical-align: middle;'></progress>\n",
              "      \n",
              "    </div>\n",
              "    \n"
            ]
          },
          "metadata": {}
        },
        {
          "output_type": "display_data",
          "data": {
            "text/plain": [
              "<IPython.core.display.HTML object>"
            ],
            "text/html": [
              "\n",
              "<style>\n",
              "    /* Turns off some styling */\n",
              "    progress {\n",
              "        /* gets rid of default border in Firefox and Opera. */\n",
              "        border: none;\n",
              "        /* Needs to be in here for Safari polyfill so background images work as expected. */\n",
              "        background-size: auto;\n",
              "    }\n",
              "    progress:not([value]), progress:not([value])::-webkit-progress-bar {\n",
              "        background: repeating-linear-gradient(45deg, #7e7e7e, #7e7e7e 10px, #5c5c5c 10px, #5c5c5c 20px);\n",
              "    }\n",
              "    .progress-bar-interrupted, .progress-bar-interrupted::-webkit-progress-bar {\n",
              "        background: #F44336;\n",
              "    }\n",
              "</style>\n"
            ]
          },
          "metadata": {}
        },
        {
          "output_type": "display_data",
          "data": {
            "text/plain": [
              "<IPython.core.display.HTML object>"
            ],
            "text/html": []
          },
          "metadata": {}
        },
        {
          "output_type": "execute_result",
          "data": {
            "text/plain": [
              "0.8650000095367432"
            ]
          },
          "metadata": {},
          "execution_count": 13
        }
      ]
    }
  ]
}