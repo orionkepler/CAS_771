{
 "cells": [
  {
   "cell_type": "code",
   "execution_count": 1,
   "id": "8607cb53",
   "metadata": {},
   "outputs": [],
   "source": [
    "import os\n",
    "import shutil"
   ]
  },
  {
   "cell_type": "code",
   "execution_count": 2,
   "id": "535c3bb6",
   "metadata": {},
   "outputs": [],
   "source": [
    "# get the file path\n",
    "src_dir = '/Users/orion/CAS_771/dataset2/train'\n",
    "\n",
    "# read the file name and category \n",
    "with open(os.path.join(src_dir, 'train_label.txt')) as f:\n",
    "    file_categories = [line.strip().split() for line in f]\n",
    "\n",
    "# move the files into Corresponding file block\n",
    "for file, category in file_categories:\n",
    "    # check if the file block exists \n",
    "    target_dir = os.path.join(src_dir, category)\n",
    "    if not os.path.exists(target_dir):\n",
    "        os.makedirs(target_dir)\n",
    "    \n",
    "    # move the file\n",
    "    shutil.move(os.path.join(src_dir, file), os.path.join(target_dir, os.path.basename(file)))"
   ]
  },
  {
   "cell_type": "code",
   "execution_count": null,
   "id": "59ebbb13",
   "metadata": {},
   "outputs": [],
   "source": []
  }
 ],
 "metadata": {
  "kernelspec": {
   "display_name": "Python 3 (ipykernel)",
   "language": "python",
   "name": "python3"
  },
  "language_info": {
   "codemirror_mode": {
    "name": "ipython",
    "version": 3
   },
   "file_extension": ".py",
   "mimetype": "text/x-python",
   "name": "python",
   "nbconvert_exporter": "python",
   "pygments_lexer": "ipython3",
   "version": "3.9.13"
  }
 },
 "nbformat": 4,
 "nbformat_minor": 5
}
